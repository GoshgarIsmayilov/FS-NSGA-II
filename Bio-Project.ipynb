{
 "cells": [
  {
   "cell_type": "markdown",
   "metadata": {},
   "source": [
    "# Bioinformatics Project"
   ]
  },
  {
   "cell_type": "markdown",
   "metadata": {},
   "source": [
    "### Feature (Gene) Selection for Microarray Classification"
   ]
  },
  {
   "cell_type": "markdown",
   "metadata": {},
   "source": [
    "#### Implementation"
   ]
  },
  {
   "cell_type": "markdown",
   "metadata": {},
   "source": [
    "1. Import libraries."
   ]
  },
  {
   "cell_type": "code",
   "execution_count": 1,
   "metadata": {},
   "outputs": [],
   "source": [
    "import sys\n",
    "import time\n",
    "import numpy as np\n",
    "import pandas as pd\n",
    "from sklearn import preprocessing\n",
    "from sklearn.svm import LinearSVC, SVC\n",
    "from sklearn.model_selection import LeaveOneOut, KFold\n",
    "from sklearn.neighbors import KNeighborsClassifier\n",
    "from sklearn.tree import DecisionTreeClassifier \n",
    "from sklearn.ensemble import RandomForestClassifier\n",
    "from sklearn.neural_network import MLPClassifier\n",
    "from sklearn.metrics import confusion_matrix, precision_score\n",
    "from sklearn.feature_selection import SelectKBest\n",
    "from sklearn.feature_selection import chi2"
   ]
  },
  {
   "cell_type": "markdown",
   "metadata": {},
   "source": [
    "2. Get user inputs (name of dataset and objectives be considered)."
   ]
  },
  {
   "cell_type": "code",
   "execution_count": 2,
   "metadata": {},
   "outputs": [],
   "source": [
    "dataset_name = sys.argv[1]\n",
    "objectives   = sys.argv[2]\n",
    "dataset_name = 'shipp'     # gordon: lung # shipp: lymphoma # singh: prostate # tian: myeloma"
   ]
  },
  {
   "cell_type": "markdown",
   "metadata": {},
   "source": [
    "3. Read dataset."
   ]
  },
  {
   "cell_type": "code",
   "execution_count": 3,
   "metadata": {},
   "outputs": [],
   "source": [
    "samples = pd.read_csv('Datasets/' + dataset_name + '_inputs.csv', header = None)\n",
    "labels = pd.read_csv('Datasets/' + dataset_name + '_outputs.csv', header = None)"
   ]
  },
  {
   "cell_type": "markdown",
   "metadata": {},
   "source": [
    "4. Pre-process dataset."
   ]
  },
  {
   "cell_type": "code",
   "execution_count": 4,
   "metadata": {},
   "outputs": [],
   "source": [
    "samples.fillna(0, inplace = True)\n",
    "samples = np.asarray(samples.values)\n",
    "labels = np.transpose(np.asarray(labels.values.ravel() - 1, dtype=int))\n",
    "samples = preprocessing.MinMaxScaler().fit_transform(samples)\n"
   ]
  },
  {
   "cell_type": "markdown",
   "metadata": {},
   "source": [
    "5. Pre-select best 100 features with univariate chi square statistical analysis."
   ]
  },
  {
   "cell_type": "code",
   "execution_count": 5,
   "metadata": {},
   "outputs": [],
   "source": [
    "samples = SelectKBest(chi2, k = 100).fit_transform(samples, labels)"
   ]
  },
  {
   "cell_type": "markdown",
   "metadata": {},
   "source": [
    "6. Be ready! Last preparations."
   ]
  },
  {
   "cell_type": "code",
   "execution_count": 6,
   "metadata": {},
   "outputs": [],
   "source": [
    "indexes           = [0, 1]\n",
    "scores            = []\n",
    "loo               = LeaveOneOut()\n",
    "cv                = KFold(n_splits = 10, shuffle=False)\n",
    "number_of_classes = np.max(labels) + 1\n",
    "batch_size        = 1\n",
    "epochs            = 5\n",
    "\n",
    "acc_scores        = []"
   ]
  },
  {
   "cell_type": "markdown",
   "metadata": {},
   "source": [
    "7. Apply Linear SVM!"
   ]
  },
  {
   "cell_type": "code",
   "execution_count": 7,
   "metadata": {},
   "outputs": [
    {
     "name": "stdout",
     "output_type": "stream",
     "text": [
      "Time: 0.03802657127380371\n",
      "Score: 0.7892857142857143\n"
     ]
    }
   ],
   "source": [
    "def linearSVM(indexes,print_time=True):\n",
    "    \n",
    "    start_time = time.time()\n",
    "    for train_index, test_index in cv.split(samples):\n",
    "        x_train, x_test = samples[train_index], samples[test_index]\n",
    "        y_train, y_test = labels[train_index], labels[test_index]\n",
    "\n",
    "        X_train = x_train[:, indexes]\n",
    "        X_test = x_test[:, indexes]\n",
    "        Y_train = y_train[:]\n",
    "        Y_test = y_test[:]\n",
    "\n",
    "        X_train = X_train.astype('float32')\n",
    "        X_test = X_test.astype('float32')\n",
    "        Y_train = Y_train[:]\n",
    "        Y_test = Y_test[:]\n",
    "\n",
    "        classifier = LinearSVC(random_state=0)\n",
    "        classifier.fit(X_train, Y_train)\n",
    "        score = classifier.score(X_test, Y_test)\n",
    "        scores.append(score)\n",
    "    end_time = time.time()\n",
    "    \n",
    "    average_score = np.average(scores)\n",
    "    completion_time = end_time - start_time\n",
    "    if print_time:\n",
    "        print(\"Time: \" + str(completion_time))\n",
    "    return average_score\n",
    "    \n",
    "score = linearSVM(indexes)\n",
    "acc_scores.append(score)\n",
    "print(\"Score: \" + str(score))\n"
   ]
  },
  {
   "cell_type": "markdown",
   "metadata": {},
   "source": [
    "8. Apply Non-Linear SVM!"
   ]
  },
  {
   "cell_type": "code",
   "execution_count": 8,
   "metadata": {},
   "outputs": [
    {
     "name": "stdout",
     "output_type": "stream",
     "text": [
      "Time: 0.3252584934234619\n",
      "Score: 0.849343185550082\n"
     ]
    }
   ],
   "source": [
    "def nonLinearSVM(indexes, print_time=True):\n",
    "\n",
    "    start_time = time.time()\n",
    "    for train_index, test_index in loo.split(samples):\n",
    "        x_train, x_test = samples[train_index], samples[test_index]\n",
    "        y_train, y_test = labels[train_index], labels[test_index]\n",
    "\n",
    "        X_train = x_train[:, indexes]\n",
    "        X_test = x_test[:, indexes]\n",
    "        Y_train = y_train[:]\n",
    "        Y_test = y_test[:]\n",
    "\n",
    "        X_train = X_train.astype('float32')\n",
    "        X_test = X_test.astype('float32')\n",
    "        Y_train = Y_train[:]\n",
    "        Y_test = Y_test[:]\n",
    "\n",
    "        classifier = SVC(kernel = 'rbf', random_state=0) # rbf == gaussian\n",
    "        classifier.fit(X_train, Y_train)\n",
    "        score = classifier.score(X_test, Y_test)\n",
    "        scores.append(score)\n",
    "    end_time = time.time()\n",
    "\n",
    "    average_score = np.average(scores)\n",
    "    completion_time = end_time - start_time\n",
    "    if print_time:\n",
    "        print(\"Time: \" + str(completion_time))\n",
    "    return average_score\n",
    "    \n",
    "score = nonLinearSVM(indexes)\n",
    "acc_scores.append(score)\n",
    "print(\"Score: \" + str(score))"
   ]
  },
  {
   "cell_type": "markdown",
   "metadata": {},
   "source": [
    "9. Apply k-NN!"
   ]
  },
  {
   "cell_type": "code",
   "execution_count": 9,
   "metadata": {},
   "outputs": [
    {
     "name": "stdout",
     "output_type": "stream",
     "text": [
      "Time: 0.35024237632751465\n",
      "Score: 0.8286149825783972\n"
     ]
    }
   ],
   "source": [
    "def kNN(indexes, print_time=True):\n",
    "\n",
    "    start_time = time.time()\n",
    "    for train_index, test_index in loo.split(samples):\n",
    "        x_train, x_test = samples[train_index], samples[test_index]\n",
    "        y_train, y_test = labels[train_index], labels[test_index]\n",
    "\n",
    "        X_train = x_train[:, indexes]\n",
    "        X_test = x_test[:, indexes]\n",
    "        Y_train = y_train[:]\n",
    "        Y_test = y_test[:]\n",
    "\n",
    "        X_train = X_train.astype('float32')\n",
    "        X_test = X_test.astype('float32')\n",
    "        Y_train = Y_train[:]\n",
    "        Y_test = Y_test[:]\n",
    "\n",
    "        classifier = KNeighborsClassifier(n_neighbors=3)\n",
    "        classifier.fit(X_train, Y_train)\n",
    "        score = classifier.score(X_test, Y_test)\n",
    "        scores.append(score)\n",
    "    end_time = time.time()\n",
    "\n",
    "    average_score = np.average(scores)\n",
    "    completion_time = end_time - start_time\n",
    "    if print_time:\n",
    "        print(\"Time: \" + str(completion_time))\n",
    "    return average_score\n",
    "    \n",
    "score = kNN(indexes)\n",
    "acc_scores.append(score)\n",
    "print(\"Score: \" + str(score))"
   ]
  },
  {
   "cell_type": "markdown",
   "metadata": {},
   "source": [
    "10. Apply MLP classifier!"
   ]
  },
  {
   "cell_type": "code",
   "execution_count": 10,
   "metadata": {},
   "outputs": [
    {
     "name": "stdout",
     "output_type": "stream",
     "text": [
      "Time: 95.73374009132385\n",
      "Score: 0.833580320094843\n"
     ]
    }
   ],
   "source": [
    "def MLP(indexes, print_time=True):\n",
    "\n",
    "    start_time = time.time()\n",
    "    for train_index, test_index in loo.split(samples):\n",
    "        x_train, x_test = samples[train_index], samples[test_index]\n",
    "        y_train, y_test = labels[train_index], labels[test_index]\n",
    "\n",
    "        X_train = x_train[:, indexes]\n",
    "        X_test = x_test[:, indexes]\n",
    "        Y_train = y_train[:]\n",
    "        Y_test = y_test[:]\n",
    "\n",
    "        X_train = X_train.astype('float32')\n",
    "        X_test = X_test.astype('float32')\n",
    "        Y_train = Y_train[:]\n",
    "        Y_test = Y_test[:]\n",
    "\n",
    "        classifier = MLPClassifier(hidden_layer_sizes=(10, 10), activation='relu', solver='adam', max_iter=3000)\n",
    "        classifier.fit(X_train, Y_train)\n",
    "        score = classifier.score(X_test, Y_test)\n",
    "        scores.append(score)\n",
    "    end_time = time.time()\n",
    "\n",
    "    average_score = np.average(scores)\n",
    "    completion_time = end_time - start_time\n",
    "    if print_time:\n",
    "        print(\"Time: \" + str(completion_time))\n",
    "    return average_score\n",
    "    \n",
    "score = MLP(indexes)\n",
    "acc_scores.append(score)\n",
    "print(\"Score: \" + str(score))"
   ]
  },
  {
   "cell_type": "markdown",
   "metadata": {},
   "source": [
    "Apply decision tree classifier!"
   ]
  },
  {
   "cell_type": "code",
   "execution_count": 11,
   "metadata": {},
   "outputs": [
    {
     "name": "stdout",
     "output_type": "stream",
     "text": [
      "Time: 0.2291550636291504\n",
      "Score: 0.8141284815813117\n"
     ]
    }
   ],
   "source": [
    "def DTree(indexes, print_time=True):\n",
    "    start_time = time.time()\n",
    "    for train_index, test_index in loo.split(samples):\n",
    "        x_train, x_test = samples[train_index], samples[test_index]\n",
    "        y_train, y_test = labels[train_index], labels[test_index]\n",
    "\n",
    "        X_train = x_train[:, indexes]\n",
    "        X_test = x_test[:, indexes]\n",
    "        Y_train = y_train[:]\n",
    "        Y_test = y_test[:]\n",
    "\n",
    "        X_train = X_train.astype('float32')\n",
    "        X_test = X_test.astype('float32')\n",
    "        Y_train = Y_train[:]\n",
    "        Y_test = Y_test[:]\n",
    "\n",
    "        decision_tree = DecisionTreeClassifier()\n",
    "        decision_tree = decision_tree.fit(X_train, Y_train)\n",
    "        score = decision_tree.score(X_test, Y_test)\n",
    "        scores.append(score)\n",
    "    end_time = time.time()\n",
    "\n",
    "    average_score = np.average(scores)\n",
    "    completion_time = end_time - start_time\n",
    "    if print_time:\n",
    "        print(\"Time: \" + str(completion_time))\n",
    "    return average_score\n",
    "    \n",
    "score = DTree(indexes)\n",
    "acc_scores.append(score)\n",
    "print(\"Score: \" + str(score))\n"
   ]
  },
  {
   "cell_type": "markdown",
   "metadata": {},
   "source": [
    "Apply random forest classifier!"
   ]
  },
  {
   "cell_type": "code",
   "execution_count": 12,
   "metadata": {},
   "outputs": [
    {
     "name": "stdout",
     "output_type": "stream",
     "text": [
      "Time: 42.683528423309326\n",
      "Score: 0.8098553345388788\n"
     ]
    }
   ],
   "source": [
    "def RForest(indexes, print_time=True):\n",
    "    \n",
    "    start_time = time.time()\n",
    "    for train_index, test_index in loo.split(samples):\n",
    "        x_train, x_test = samples[train_index], samples[test_index]\n",
    "        y_train, y_test = labels[train_index], labels[test_index]\n",
    "\n",
    "        X_train = x_train[:, indexes]\n",
    "        X_test = x_test[:, indexes]\n",
    "        Y_train = y_train[:]\n",
    "        Y_test = y_test[:]\n",
    "\n",
    "        X_train = X_train.astype('float32')\n",
    "        X_test = X_test.astype('float32')\n",
    "        Y_train = Y_train[:]\n",
    "        Y_test = Y_test[:]\n",
    "\n",
    "        classifier = RandomForestClassifier(n_estimators=100)\n",
    "        classifier.fit(X_train, Y_train)\n",
    "        score = classifier.score(X_test, Y_test)\n",
    "        scores.append(score)\n",
    "    end_time = time.time()\n",
    "\n",
    "    average_score = np.average(scores)\n",
    "    completion_time = end_time - start_time\n",
    "    if print_time:\n",
    "        print(\"Time: \" + str(completion_time))\n",
    "    return average_score\n",
    "    \n",
    "score = RForest(indexes)\n",
    "acc_scores.append(score)\n",
    "print(\"Score: \" + str(score))\n"
   ]
  },
  {
   "cell_type": "markdown",
   "metadata": {},
   "source": [
    "Selecting a classifier with maximum accuracy score to be used in multi-objective algorithm:"
   ]
  },
  {
   "cell_type": "code",
   "execution_count": 13,
   "metadata": {},
   "outputs": [],
   "source": [
    "def classifier_selection(scores):\n",
    "    return acc_scores.index(max(scores))\n",
    "\n",
    "def selected_function(indexes, selection):\n",
    "    \n",
    "    if selection == 0:\n",
    "        score = linearSVM(indexes, False)\n",
    "    elif selection == 1:\n",
    "        score = nonLinearSVM(indexes, False)\n",
    "    elif selection == 2:\n",
    "        score = kNN(indexes, False)\n",
    "    elif selection == 3:\n",
    "        score = MLP(indexes, False)\n",
    "    elif selection == 4:\n",
    "        score = DTree(indexes, False)\n",
    "    elif selection == 5:\n",
    "        score = RForest(indexes, False)\n",
    "        \n",
    "    return score\n",
    "\n",
    "selected_classifier = classifier_selection(acc_scores)\n"
   ]
  },
  {
   "cell_type": "markdown",
   "metadata": {},
   "source": [
    "11. Apply NSGA-II!"
   ]
  },
  {
   "cell_type": "code",
   "execution_count": 15,
   "metadata": {},
   "outputs": [
    {
     "name": "stdout",
     "output_type": "stream",
     "text": [
      "The best front for Generation number  0  is\n",
      "[1, 0, 1, 0, 1, 1, 0, 0, 0, 0] 0.8443801476853167 [1, 0, 0, 0, 0, 0, 1, 0, 1, 0] 0.844371879915202 \n",
      "\n",
      "The best front for Generation number  1  is\n",
      "[1, 0, 0, 0, 0, 0, 1, 0, 1, 0] 0.849969474969475 [1, 0, 0, 0, 1, 0, 1, 1, 0, 0] 0.8501956662017859 [1, 1, 0, 0, 0, 1, 0, 1, 0, 1] 0.8504168382050226 \n",
      "\n",
      "The best front for Generation number  2  is\n",
      "[0, 0, 0, 1, 0, 0, 0, 0, 1, 1] 0.856397083195227 [1, 0, 1, 0, 1, 0, 0, 0, 0, 1] 0.8566580892216883 [1, 1, 1, 1, 1, 1, 1, 0, 0, 1] 0.8567460654009716 \n",
      "\n",
      "The best front for Generation number  3  is\n",
      "[0, 0, 0, 1, 0, 0, 0, 1, 1, 0] 0.8567378006515561 [1, 0, 1, 0, 1, 0, 0, 0, 0, 1] 0.856920788236816 \n",
      "\n",
      "The best front for Generation number  4  is\n",
      "[1, 0, 0, 1, 0, 0, 0, 0, 0, 0] 0.8577693940900599 [0, 0, 0, 1, 0, 0, 0, 1, 1, 0] 0.8576734081795236 [1, 1, 0, 0, 1, 0, 0, 0, 0, 1] 0.8578115827952397 \n",
      "\n",
      "The best front for Generation number  5  is\n",
      "[1, 0, 1, 0, 0, 1, 0, 1, 0, 0] 0.8560829034252233 [1, 0, 0, 0, 0, 0, 0, 0, 1, 0] 0.8560096547209949 \n",
      "\n",
      "The best front for Generation number  6  is\n",
      "[1, 0, 0, 1, 0, 0, 0, 0, 0, 0] 0.856667622531902 [1, 0, 1, 0, 0, 0, 0, 0, 0, 1] 0.8566688043257608 \n",
      "\n",
      "The best front for Generation number  7  is\n",
      "[1, 0, 0, 0, 0, 0, 0, 1, 0, 0] 0.8548524398402416 [1, 0, 0, 1, 0, 1, 0, 0, 0, 1] 0.8548853561235339 \n",
      "\n",
      "The best front for Generation number  8  is\n",
      "[1, 0, 0, 1, 0, 0, 0, 0, 0, 0] 0.8562852196647176 [1, 0, 0, 1, 0, 0, 0, 1, 0, 1] 0.8563115337959828 \n",
      "\n",
      "The best front for Generation number  9  is\n",
      "[1, 0, 1, 0, 0, 0, 0, 0, 0, 1] 0.8561324704625817 [1, 0, 0, 1, 0, 1, 0, 1, 0, 0] 0.8561341884278332 \n",
      "\n",
      "The best front for Generation number  10  is\n",
      "[1, 0, 0, 0, 0, 0, 0, 1, 0, 1] 0.8567291450521748 \n",
      "\n",
      "The best front for Generation number  11  is\n",
      "[1, 1, 0, 0, 0, 0, 0, 1, 0, 0] 0.8567646828299718 \n",
      "\n",
      "The best front for Generation number  12  is\n",
      "[1, 0, 0, 0, 0, 0, 0, 0, 1, 0] 0.8567103905071468 [1, 0, 1, 1, 0, 0, 0, 0, 0, 0] 0.8567109506028671 \n",
      "\n",
      "The best front for Generation number  13  is\n",
      "[1, 0, 0, 0, 0, 0, 0, 0, 0, 0] 0.8542172819931545 [1, 0, 1, 1, 0, 0, 0, 0, 1, 0] 0.8542519283979394 \n",
      "\n",
      "The best front for Generation number  14  is\n",
      "[1, 0, 0, 0, 0, 0, 0, 1, 0, 1] 0.8555080574123011 [1, 1, 0, 1, 0, 1, 0, 0, 0, 0] 0.855524374034707 \n",
      "\n",
      "The best front for Generation number  15  is\n",
      "[1, 1, 0, 0, 0, 0, 0, 0, 0, 0] 0.8556275235368574 [1, 0, 1, 1, 0, 0, 0, 0, 0, 1] 0.855629105090312 \n",
      "\n",
      "The best front for Generation number  16  is\n",
      "[1, 1, 0, 0, 0, 0, 0, 0, 0, 0] 0.8565352778298632 [1, 0, 1, 1, 0, 0, 0, 0, 1, 0] 0.8565613349095208 \n",
      "\n",
      "The best front for Generation number  17  is\n",
      "[1, 0, 0, 0, 0, 1, 0, 0, 1, 0] 0.8569785440573577 \n",
      "\n",
      "The best front for Generation number  18  is\n",
      "[1, 0, 0, 1, 0, 0, 0, 1, 0, 1] 0.8575331217268132 [1, 1, 0, 0, 0, 1, 0, 0, 0, 0] 0.8575327803267726 \n",
      "\n",
      "The best front for Generation number  19  is\n",
      "[1, 0, 0, 1, 0, 1, 0, 0, 0, 0] 0.8578797305500858 \n",
      "\n"
     ]
    },
    {
     "data": {
      "image/png": "[encoded data removed]",
      "text/plain": [
       "<Figure size 432x288 with 1 Axes>"
      ]
     },
     "metadata": {
      "needs_background": "light"
     },
     "output_type": "display_data"
    }
   ],
   "source": [
    "import math\n",
    "import random\n",
    "import matplotlib.pyplot as plt\n",
    "\n",
    "#First function to optimize\n",
    "def function1(x):\n",
    "    value = -sum(x)\n",
    "    return value\n",
    "\n",
    "#Second function to optimize\n",
    "def function2(x):\n",
    "    indexes = [i for i, v in enumerate(x) if v == 1]\n",
    "    if indexes == []: indexes = [0]\n",
    "    value = selected_function(indexes, selected_classifier)\n",
    "    return value\n",
    "\n",
    "#Function to find index of list\n",
    "def index_of(a,list):\n",
    "    for i in range(0,len(list)):\n",
    "        if list[i] == a:\n",
    "            return i\n",
    "    return -1\n",
    "\n",
    "#Function to sort by values\n",
    "def sort_by_values(list1, values):\n",
    "    sorted_list = []\n",
    "    while(len(sorted_list)!=len(list1)):\n",
    "        if index_of(min(values),values) in list1:\n",
    "            sorted_list.append(index_of(min(values),values))\n",
    "        values[index_of(min(values),values)] = math.inf\n",
    "    return sorted_list\n",
    "\n",
    "#Function to carry out NSGA-II's fast non dominated sort\n",
    "def fast_non_dominated_sort(values1, values2):\n",
    "    S=[[] for i in range(0,len(values1))]\n",
    "    front = [[]]\n",
    "    n=[0 for i in range(0,len(values1))]\n",
    "    rank = [0 for i in range(0, len(values1))]\n",
    "\n",
    "    for p in range(0,len(values1)):\n",
    "        S[p]=[]\n",
    "        n[p]=0\n",
    "        for q in range(0, len(values1)):\n",
    "            if (values1[p] > values1[q] and values2[p] > values2[q]) or (values1[p] >= values1[q] and values2[p] > values2[q]) or (values1[p] > values1[q] and values2[p] >= values2[q]):\n",
    "                if q not in S[p]:\n",
    "                    S[p].append(q)\n",
    "            elif (values1[q] > values1[p] and values2[q] > values2[p]) or (values1[q] >= values1[p] and values2[q] > values2[p]) or (values1[q] > values1[p] and values2[q] >= values2[p]):\n",
    "                n[p] = n[p] + 1\n",
    "        if n[p]==0:\n",
    "            rank[p] = 0\n",
    "            if p not in front[0]:\n",
    "                front[0].append(p)\n",
    "\n",
    "    i = 0\n",
    "    while(front[i] != []):\n",
    "        Q=[]\n",
    "        for p in front[i]:\n",
    "            for q in S[p]:\n",
    "                n[q] =n[q] - 1\n",
    "                if( n[q]==0):\n",
    "                    rank[q]=i+1\n",
    "                    if q not in Q:\n",
    "                        Q.append(q)\n",
    "        i = i+1\n",
    "        front.append(Q)\n",
    "\n",
    "    del front[len(front)-1]\n",
    "    return front\n",
    "\n",
    "#Function to calculate crowding distance\n",
    "def crowding_distance(values1, values2, front):\n",
    "    distance = [0 for i in range(0,len(front))]\n",
    "    sorted1 = sort_by_values(front, values1[:])\n",
    "    sorted2 = sort_by_values(front, values2[:])\n",
    "    distance[0] = 4444444444444444\n",
    "    distance[len(front) - 1] = 4444444444444444\n",
    "    for k in range(1,len(front)-1):\n",
    "        distance[k] = distance[k]+ (values1[sorted1[k+1]] - values2[sorted1[k-1]])/(max(values1)-min(values1))\n",
    "    for k in range(1,len(front)-1):\n",
    "        distance[k] = distance[k]+ (values1[sorted2[k+1]] - values2[sorted2[k-1]])/(max(values2)-min(values2))\n",
    "    return distance\n",
    "\n",
    "#Function to carry out the crossover\n",
    "def crossover(solution1, solution2):\n",
    "    number_of_genes = 10\n",
    "    r = random.randint(0, number_of_genes - 1)\n",
    "    tmp = solution1[:r].copy()\n",
    "    solution1[:r], solution2[:r]  = solution2[:r], tmp\n",
    "    return solution1\n",
    "\n",
    "#Function to carry out the mutation operator\n",
    "def mutation(solution1):\n",
    "    number_of_genes = 10\n",
    "    r = random.randint(0, number_of_genes - 1)\n",
    "    solution1[r] = 1 - solution1[r]\n",
    "    return solution1\n",
    "\n",
    "#Main program starts here\n",
    "pop_size = 20\n",
    "max_gen = 20\n",
    "number_of_genes = 10\n",
    "\n",
    "#Initialization\n",
    "solution = [list(np.random.randint(2, size = number_of_genes)) for i in range(0,pop_size)]\n",
    "[mutation(s) for s in solution if sum(s) == 0]\n",
    "gen_no = 0\n",
    "while(gen_no<max_gen):\n",
    "    function1_values = [function1(solution[i]) for i in range(0,pop_size)]\n",
    "    function2_values = [function2(solution[i]) for i in range(0,pop_size)]\n",
    "    non_dominated_sorted_solution = fast_non_dominated_sort(function1_values[:],function2_values[:])\n",
    "    print(\"The best front for Generation number \",gen_no, \" is\")\n",
    "    for valuez in non_dominated_sorted_solution[0]:\n",
    "        print(solution[valuez], function2(solution[valuez]), end=\" \")\n",
    "    print(\"\\n\")\n",
    "    crowding_distance_values=[]\n",
    "    for i in range(0,len(non_dominated_sorted_solution)):\n",
    "        crowding_distance_values.append(crowding_distance(function1_values[:],function2_values[:],non_dominated_sorted_solution[i][:]))\n",
    "    solution2 = solution[:]\n",
    "    #Generating offsprings\n",
    "    while(len(solution2)!=2*pop_size):\n",
    "        a1 = random.randint(0,pop_size-1)\n",
    "        b1 = random.randint(0,pop_size-1)\n",
    "        c1 = crossover(solution[a1],solution[b1])\n",
    "        #d1 = mutation(c1)\n",
    "        solution2.append(c1)\n",
    "    [mutation(s) for s in solution2 if sum(s) == 0]\n",
    "    function1_values2 = [function1(solution2[i]) for i in range(0,2*pop_size)]\n",
    "    function2_values2 = [function2(solution2[i]) for i in range(0,2*pop_size)]\n",
    "    non_dominated_sorted_solution2 = fast_non_dominated_sort(function1_values2[:],function2_values2[:])\n",
    "    crowding_distance_values2=[]\n",
    "    for i in range(0,len(non_dominated_sorted_solution2)):\n",
    "        crowding_distance_values2.append(crowding_distance(function1_values2[:],function2_values2[:],non_dominated_sorted_solution2[i][:]))\n",
    "    new_solution= []\n",
    "    for i in range(0,len(non_dominated_sorted_solution2)):\n",
    "        non_dominated_sorted_solution2_1 = [index_of(non_dominated_sorted_solution2[i][j],non_dominated_sorted_solution2[i]) for j in range(0,len(non_dominated_sorted_solution2[i]))]\n",
    "        front22 = sort_by_values(non_dominated_sorted_solution2_1[:], crowding_distance_values2[i][:])\n",
    "        front = [non_dominated_sorted_solution2[i][front22[j]] for j in range(0,len(non_dominated_sorted_solution2[i]))]\n",
    "        front.reverse()\n",
    "        for value in front:\n",
    "            new_solution.append(value)\n",
    "            if(len(new_solution)==pop_size):\n",
    "                break\n",
    "        if (len(new_solution) == pop_size):\n",
    "            break\n",
    "    solution = [solution2[i] for i in new_solution]\n",
    "    gen_no = gen_no + 1\n",
    "\n",
    "#Lets plot the final front now\n",
    "function1 = [i * -1 for i in function1_values]\n",
    "function2 = [j * -1 for j in function2_values]\n",
    "plt.xlabel('Function 1', fontsize=15)\n",
    "plt.ylabel('Function 2', fontsize=15)\n",
    "plt.scatter(function1, function2)\n",
    "plt.show()"
   ]
  },
  {
   "cell_type": "code",
   "execution_count": null,
   "metadata": {},
   "outputs": [],
   "source": [
    "def mutation(solution1):\n",
    "    number_of_genes = 10\n",
    "    r = random.randint(0, number_of_genes - 1)\n",
    "    solution1[r] = 1 - solution1[r]\n",
    "    return solution1\n",
    "\n",
    "solution = [list(np.random.randint(2, size = 10)) for i in range(0,10)]\n",
    "print(solution)\n",
    "print()\n",
    "[mutation(s) for s in solution if sum(s) == 5]\n",
    "print(solution)"
   ]
  },
  {
   "cell_type": "markdown",
   "metadata": {},
   "source": [
    "# Comments\n",
    "\n",
    "Author:\n",
    "    GOSHGAR ISMAYILOV\n",
    "    SERHAT İŞCAN"
   ]
  },
  {
   "cell_type": "code",
   "execution_count": null,
   "metadata": {},
   "outputs": [],
   "source": []
  }
 ],
 "metadata": {
  "kernelspec": {
   "display_name": "Python 3",
   "language": "python",
   "name": "python3"
  },
  "language_info": {
   "codemirror_mode": {
    "name": "ipython",
    "version": 3
   },
   "file_extension": ".py",
   "mimetype": "text/x-python",
   "name": "python",
   "nbconvert_exporter": "python",
   "pygments_lexer": "ipython3",
   "version": "3.7.4"
  }
 },
 "nbformat": 4,
 "nbformat_minor": 2
}
